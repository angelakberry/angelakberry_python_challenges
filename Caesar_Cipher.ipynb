{
 "cells": [
  {
   "cell_type": "code",
   "execution_count": 8,
   "id": "b01d7b40",
   "metadata": {},
   "outputs": [
    {
     "name": "stdout",
     "output_type": "stream",
     "text": [
      "def\n",
      "zab\n",
      "Mjqqt, Btwqi!\n",
      "Qc reqi mw Cs Qeqqe\n",
      "Hello, World!\n",
      "My name is Yo Mamma\n"
     ]
    }
   ],
   "source": [
    "def caesar_cipher(text, shift):\n",
    "    result = \"\"\n",
    "\n",
    "    shift = shift % 26\n",
    "\n",
    "    for char in text:\n",
    "        if char.isalpha():\n",
    "            base = ord('A') if char.isupper() else ord('a')\n",
    "            shifted = (ord(char) - base + shift) % 26 + base\n",
    "            result += chr(shifted)\n",
    "        else:\n",
    "            result += char  \n",
    "\n",
    "    return result\n",
    "\n",
    "def caesar_decipher(text, shift):\n",
    "    return caesar_cipher(text, -shift)\n",
    "\n",
    "print(caesar_cipher(\"abc\", 3))          \n",
    "print(caesar_cipher(\"xyz\", 2))          \n",
    "print(caesar_cipher(\"Hello, World!\", 5))\n",
    "print(caesar_cipher(\"My name is Yo Mamma\", 4))\n",
    "\n",
    "print(caesar_decipher(\"Mjqqt, Btwqi!\", 5))\n",
    "print(caesar_decipher(\"Qc reqi mw Cs Qeqqe\", 4)) "
   ]
  }
 ],
 "metadata": {
  "kernelspec": {
   "display_name": "Python 3",
   "language": "python",
   "name": "python3"
  },
  "language_info": {
   "codemirror_mode": {
    "name": "ipython",
    "version": 3
   },
   "file_extension": ".py",
   "mimetype": "text/x-python",
   "name": "python",
   "nbconvert_exporter": "python",
   "pygments_lexer": "ipython3",
   "version": "3.13.4"
  }
 },
 "nbformat": 4,
 "nbformat_minor": 5
}
