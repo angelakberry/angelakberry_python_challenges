{
 "cells": [
  {
   "cell_type": "markdown",
   "id": "635c79f7",
   "metadata": {},
   "source": [
    "# Using String Slicing:"
   ]
  },
  {
   "cell_type": "code",
   "execution_count": 1,
   "id": "3a90e389",
   "metadata": {},
   "outputs": [
    {
     "name": "stdout",
     "output_type": "stream",
     "text": [
      "emitremmuS\n"
     ]
    }
   ],
   "source": [
    "user_input = input(\"Enter a string: \")\n",
    "\n",
    "reverse_string = user_input[::-1]\n",
    "\n",
    "print(reverse_string)"
   ]
  },
  {
   "cell_type": "markdown",
   "id": "936c80a0",
   "metadata": {},
   "source": [
    "# Using For Loop:"
   ]
  },
  {
   "cell_type": "code",
   "execution_count": 2,
   "id": "91598f46",
   "metadata": {},
   "outputs": [
    {
     "name": "stdout",
     "output_type": "stream",
     "text": [
      "emitremmuS\n"
     ]
    }
   ],
   "source": [
    "user_input = input(\"Enter a string: \")\n",
    "reverse_string = \"\"\n",
    "\n",
    "for char in user_input:\n",
    "    reverse_string = char + reverse_string  \n",
    "\n",
    "print(reverse_string)"
   ]
  }
 ],
 "metadata": {
  "kernelspec": {
   "display_name": "Python 3",
   "language": "python",
   "name": "python3"
  },
  "language_info": {
   "codemirror_mode": {
    "name": "ipython",
    "version": 3
   },
   "file_extension": ".py",
   "mimetype": "text/x-python",
   "name": "python",
   "nbconvert_exporter": "python",
   "pygments_lexer": "ipython3",
   "version": "3.13.4"
  }
 },
 "nbformat": 4,
 "nbformat_minor": 5
}
