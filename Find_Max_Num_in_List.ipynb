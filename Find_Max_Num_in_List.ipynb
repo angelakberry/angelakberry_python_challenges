{
 "cells": [
  {
   "cell_type": "code",
   "execution_count": 26,
   "id": "003f2ebc",
   "metadata": {},
   "outputs": [],
   "source": [
    "def find_max(numbers):\n",
    "    if not numbers:  \n",
    "        raise ValueError(\"The list is empty\")\n",
    "\n",
    "    current_max = numbers[0]  \n",
    "    for num in numbers:\n",
    "        if num > current_max:\n",
    "            current_max = num  \n",
    "    return current_max\n"
   ]
  },
  {
   "cell_type": "code",
   "execution_count": 34,
   "id": "fe02a3a9",
   "metadata": {},
   "outputs": [
    {
     "name": "stdout",
     "output_type": "stream",
     "text": [
      "17\n",
      "-2\n",
      "42\n",
      "960\n"
     ]
    }
   ],
   "source": [
    "print(find_max([4, 9, 1, 17, 2]))\n",
    "print(find_max([-5, -9, -2, -12]))\n",
    "print(find_max([42]))\n",
    "print(find_max([946,313,225,708,960,805,8,383,641,498]))      "
   ]
  }
 ],
 "metadata": {
  "kernelspec": {
   "display_name": "Python 3",
   "language": "python",
   "name": "python3"
  },
  "language_info": {
   "codemirror_mode": {
    "name": "ipython",
    "version": 3
   },
   "file_extension": ".py",
   "mimetype": "text/x-python",
   "name": "python",
   "nbconvert_exporter": "python",
   "pygments_lexer": "ipython3",
   "version": "3.13.4"
  }
 },
 "nbformat": 4,
 "nbformat_minor": 5
}
