{
 "cells": [
  {
   "cell_type": "code",
   "execution_count": 8,
   "id": "b6ef4d15",
   "metadata": {},
   "outputs": [
    {
     "name": "stdout",
     "output_type": "stream",
     "text": [
      "True\n",
      "True\n",
      "False\n",
      "False\n",
      "False\n",
      "True\n",
      "False\n",
      "True\n",
      "True\n",
      "False\n",
      "False\n"
     ]
    }
   ],
   "source": [
    "def is_prime(n):\n",
    "\n",
    "    if n <= 1:\n",
    "        return False\n",
    "\n",
    "    for i in range(2, int(n ** 0.5) + 1):\n",
    "        if n % i == 0:\n",
    "            return False\n",
    "    return True\n",
    "\n",
    "print(is_prime(2))\n",
    "print(is_prime(11))\n",
    "print(is_prime(15))\n",
    "print(is_prime(1))\n",
    "print(is_prime(0))\n",
    "print(is_prime(23))\n",
    "print(is_prime(22))\n",
    "print(is_prime(3))\n",
    "print(is_prime(17))\n",
    "print(is_prime(14))\n",
    "print(is_prime(10))"
   ]
  }
 ],
 "metadata": {
  "kernelspec": {
   "display_name": "Python 3",
   "language": "python",
   "name": "python3"
  },
  "language_info": {
   "codemirror_mode": {
    "name": "ipython",
    "version": 3
   },
   "file_extension": ".py",
   "mimetype": "text/x-python",
   "name": "python",
   "nbconvert_exporter": "python",
   "pygments_lexer": "ipython3",
   "version": "3.13.4"
  }
 },
 "nbformat": 4,
 "nbformat_minor": 5
}
