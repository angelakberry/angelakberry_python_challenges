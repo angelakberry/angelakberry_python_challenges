{
 "cells": [
  {
   "cell_type": "code",
   "execution_count": 9,
   "id": "b9f7f979",
   "metadata": {},
   "outputs": [
    {
     "name": "stdout",
     "output_type": "stream",
     "text": [
      "True\n",
      "False\n",
      "True\n",
      "True\n",
      "True\n",
      "True\n",
      "False\n"
     ]
    }
   ],
   "source": [
    "def is_palindrome(text):\n",
    "    normalized = ''.join(char.lower() for char in text if char.isalnum())\n",
    "\n",
    "    return normalized == normalized[::-1]\n",
    "\n",
    "print(is_palindrome(\"racecar\"))                  \n",
    "print(is_palindrome(\"hello\"))                    \n",
    "print(is_palindrome(\"peep\"))  \n",
    "print(is_palindrome(\"deed\"))\n",
    "print(is_palindrome(\"rotator\"))\n",
    "print(is_palindrome(\"taco cat\")) \n",
    "print(is_palindrome(\"Yo mama\")) "
   ]
  }
 ],
 "metadata": {
  "kernelspec": {
   "display_name": "Python 3",
   "language": "python",
   "name": "python3"
  },
  "language_info": {
   "codemirror_mode": {
    "name": "ipython",
    "version": 3
   },
   "file_extension": ".py",
   "mimetype": "text/x-python",
   "name": "python",
   "nbconvert_exporter": "python",
   "pygments_lexer": "ipython3",
   "version": "3.13.4"
  }
 },
 "nbformat": 4,
 "nbformat_minor": 5
}
